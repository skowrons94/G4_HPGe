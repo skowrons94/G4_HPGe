{
 "cells": [
  {
   "cell_type": "code",
   "execution_count": 1,
   "metadata": {},
   "outputs": [],
   "source": [
    "import os\n",
    "\n",
    "import numpy as np\n",
    "import pandas as pd\n",
    "import matplotlib as mpl\n",
    "import matplotlib.pyplot as plt\n",
    "\n",
    "from glob import glob"
   ]
  },
  {
   "cell_type": "code",
   "execution_count": 2,
   "metadata": {},
   "outputs": [],
   "source": [
    "def analyze_carbon(file):\n",
    "    \n",
    "    #roi_min = 2300\n",
    "    #roi_max = 2320\n",
    "\n",
    "    roi_min = 7750\n",
    "    roi_max = 7850\n",
    "\n",
    "    source = file.split( \"/\" )[2].split( \"_\" )[0] + \"_\" + file.split( \"/\" )[2].split( \"_\" )[1]\n",
    "    x = file.split( \"/\" )[2].split( \"_\" )[2]\n",
    "    y = file.split( \"/\" )[2].split( \"_\" )[3].split( \".pkl\" )[0]\n",
    "    \n",
    "    df = pd.read_pickle( file )\n",
    "\n",
    "    mask = ( df[\"Energy\"] > roi_min ) & ( df[\"Energy\"] < roi_max )\n",
    "    counts = len( df[mask] ) / 1e6\n",
    "\n",
    "    #df.hist( \"Energy\", bins=100, range=( roi_min, roi_max ) )\n",
    "    #plt.show( )\n",
    "\n",
    "    with open( \"results/{}_20_cm.txt\".format( source ), \"a\" ) as f:\n",
    "        f.write( \"{} {} {}\\n\".format( x, y, counts ) )"
   ]
  },
  {
   "cell_type": "code",
   "execution_count": 3,
   "metadata": {},
   "outputs": [],
   "source": [
    "for file in glob(\"processed/20_cm/*.pkl\"):\n",
    " \n",
    "    source = file.split( \"/\" )[2].split( \"_\" )[0] + \"_\" + file.split( \"/\" )[2].split( \"_\" )[1]\n",
    "    x = file.split( \"/\" )[2].split( \"_\" )[2]\n",
    "    y = file.split( \"/\" )[2].split( \"_\" )[3].split( \".pkl\" )[0]\n",
    "    \n",
    "    if( source == \"13C_pg\" ): analyze_carbon( file )\n",
    "    #break"
   ]
  }
 ],
 "metadata": {
  "kernelspec": {
   "display_name": "analysis",
   "language": "python",
   "name": "python3"
  },
  "language_info": {
   "codemirror_mode": {
    "name": "ipython",
    "version": 3
   },
   "file_extension": ".py",
   "mimetype": "text/x-python",
   "name": "python",
   "nbconvert_exporter": "python",
   "pygments_lexer": "ipython3",
   "version": "3.12.7"
  }
 },
 "nbformat": 4,
 "nbformat_minor": 2
}
